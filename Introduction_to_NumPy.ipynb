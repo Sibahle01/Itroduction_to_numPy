{
  "nbformat": 4,
  "nbformat_minor": 0,
  "metadata": {
    "colab": {
      "provenance": [],
      "authorship_tag": "ABX9TyNr7jszY725It7msrOw/Pvr",
      "include_colab_link": true
    },
    "kernelspec": {
      "name": "python3",
      "display_name": "Python 3"
    },
    "language_info": {
      "name": "python"
    }
  },
  "cells": [
    {
      "cell_type": "markdown",
      "metadata": {
        "id": "view-in-github",
        "colab_type": "text"
      },
      "source": [
        "<a href=\"https://colab.research.google.com/github/Sibahle01/Itroduction_to_numPy/blob/main/Introduction_to_NumPy.ipynb\" target=\"_parent\"><img src=\"https://colab.research.google.com/assets/colab-badge.svg\" alt=\"Open In Colab\"/></a>"
      ]
    },
    {
      "cell_type": "markdown",
      "source": [
        "**What is NumPy?**\n",
        "NumPy (Numerical Python) is a powerful library in Python used for numerical computing. It provides support for working with arrays (similar to lists but more efficient) and mathematical operations on them. NumPy is the foundation of many data science and machine learning libraries like Pandas and TensorFlow."
      ],
      "metadata": {
        "id": "7404CrG5ZzMl"
      }
    },
    {
      "cell_type": "code",
      "source": [
        "pip install numpy"
      ],
      "metadata": {
        "colab": {
          "base_uri": "https://localhost:8080/"
        },
        "id": "OiZFTd0yac_e",
        "outputId": "fe85aaf5-3c42-4240-af9e-44ceb1fa7aaa"
      },
      "execution_count": null,
      "outputs": [
        {
          "output_type": "stream",
          "name": "stdout",
          "text": [
            "Requirement already satisfied: numpy in /usr/local/lib/python3.10/dist-packages (1.26.4)\n"
          ]
        }
      ]
    },
    {
      "cell_type": "code",
      "source": [
        "import numpy as np"
      ],
      "metadata": {
        "id": "TWXOws8qakKK"
      },
      "execution_count": null,
      "outputs": []
    },
    {
      "cell_type": "markdown",
      "source": [
        "Creating Arrays\n",
        "\n",
        "1D Array:"
      ],
      "metadata": {
        "id": "Pajn-HSSbBr0"
      }
    },
    {
      "cell_type": "code",
      "source": [
        "import numpy as np\n",
        "arr = np.array([1, 2, 3, 4])\n",
        "print(arr)"
      ],
      "metadata": {
        "id": "A8oFgXBcbI8d",
        "colab": {
          "base_uri": "https://localhost:8080/"
        },
        "outputId": "79fb4e6b-1bb4-4400-9687-46a402d5b4cf"
      },
      "execution_count": null,
      "outputs": [
        {
          "output_type": "stream",
          "name": "stdout",
          "text": [
            "[1 2 3 4]\n"
          ]
        }
      ]
    },
    {
      "cell_type": "markdown",
      "source": [
        "2D Array:\n"
      ],
      "metadata": {
        "id": "RdPcP4Ydba8L"
      }
    },
    {
      "cell_type": "code",
      "source": [
        "import numpy as np\n",
        "matrix = np.array([[1, 2], [3, 4]])\n",
        "print(matrix)"
      ],
      "metadata": {
        "id": "WUXq9JF5b4BF",
        "colab": {
          "base_uri": "https://localhost:8080/"
        },
        "collapsed": true,
        "outputId": "917eeca8-b1ca-49f5-cf16-a5f89a54d216"
      },
      "execution_count": null,
      "outputs": [
        {
          "output_type": "stream",
          "name": "stdout",
          "text": [
            "[[1 2]\n",
            " [3 4]]\n"
          ]
        }
      ]
    },
    {
      "cell_type": "markdown",
      "source": [
        "**Shape**: Gives the dimensions of the array.\n"
      ],
      "metadata": {
        "id": "gPxNX4MGcFx6"
      }
    },
    {
      "cell_type": "code",
      "source": [
        "arr = np.array([[1, 2], [3, 4], [5, 6]])\n",
        "print(arr.shape)"
      ],
      "metadata": {
        "id": "kDWTKpsycLBS",
        "colab": {
          "base_uri": "https://localhost:8080/"
        },
        "collapsed": true,
        "outputId": "3910f40d-f002-4e6d-c25d-702ecf5355d6"
      },
      "execution_count": null,
      "outputs": [
        {
          "output_type": "stream",
          "name": "stdout",
          "text": [
            "(3, 2)\n"
          ]
        }
      ]
    },
    {
      "cell_type": "markdown",
      "source": [
        "**Size**: Total number of elements."
      ],
      "metadata": {
        "id": "zcFvkxJQcdng"
      }
    },
    {
      "cell_type": "code",
      "source": [
        "print(arr.size)"
      ],
      "metadata": {
        "id": "5QxZcp3AclSu",
        "colab": {
          "base_uri": "https://localhost:8080/"
        },
        "collapsed": true,
        "outputId": "9d9cc3d6-62aa-44d6-a064-17341c3d2356"
      },
      "execution_count": null,
      "outputs": [
        {
          "output_type": "stream",
          "name": "stdout",
          "text": [
            "6\n"
          ]
        }
      ]
    },
    {
      "cell_type": "markdown",
      "source": [
        "**Data** Type:int or str or float"
      ],
      "metadata": {
        "id": "TcWLAr-nc6e-"
      }
    },
    {
      "cell_type": "code",
      "source": [
        "print(arr.dtype)"
      ],
      "metadata": {
        "id": "So5Q5G_JdC3G",
        "colab": {
          "base_uri": "https://localhost:8080/"
        },
        "collapsed": true,
        "outputId": "8b602451-9fd9-456c-cbde-731f93bd2ee3"
      },
      "execution_count": null,
      "outputs": [
        {
          "output_type": "stream",
          "name": "stdout",
          "text": [
            "int64\n"
          ]
        }
      ]
    },
    {
      "cell_type": "markdown",
      "source": [
        "**Mathematical Operations Example**"
      ],
      "metadata": {
        "id": "meE5n9xHdcCF"
      }
    },
    {
      "cell_type": "code",
      "source": [
        "a = np.array([1, 2, 3])\n",
        "b = np.array([4, 5, 6])\n",
        "print(a + b)\n",
        "print(a * b)"
      ],
      "metadata": {
        "id": "SvMTt8qodtUy",
        "colab": {
          "base_uri": "https://localhost:8080/"
        },
        "collapsed": true,
        "outputId": "af3020c9-8bfd-47b3-c1a9-df0ba940b8b3"
      },
      "execution_count": null,
      "outputs": [
        {
          "output_type": "stream",
          "name": "stdout",
          "text": [
            "[5 7 9]\n",
            "[ 4 10 18]\n"
          ]
        }
      ]
    },
    {
      "cell_type": "markdown",
      "source": [
        "**Statical Operations**"
      ],
      "metadata": {
        "id": "XBVv7Ekze9wm"
      }
    },
    {
      "cell_type": "code",
      "source": [
        "arr = np.array([1,2,3,4,5])\n",
        "print(arr.mean())\n",
        "print(arr.sum())\n",
        "print(arr.max())"
      ],
      "metadata": {
        "id": "PKYviVc6fGA8",
        "colab": {
          "base_uri": "https://localhost:8080/"
        },
        "outputId": "375fde62-65c5-4b6b-fe4a-c3c2aa04e3c9"
      },
      "execution_count": null,
      "outputs": [
        {
          "output_type": "stream",
          "name": "stdout",
          "text": [
            "3.0\n",
            "15\n",
            "5\n"
          ]
        }
      ]
    },
    {
      "cell_type": "markdown",
      "source": [
        "**Practical Use Case**"
      ],
      "metadata": {
        "id": "Ws2kw2Q-fke3"
      }
    },
    {
      "cell_type": "code",
      "source": [
        "temps = np.array([30.5, 32.1, 33.8, 31.5, 29.9, 28.7, 27.5])\n",
        "mean_temp = temps.mean()\n",
        "print(f\"The average temperature is {mean_temp:.2f}°C\")"
      ],
      "metadata": {
        "id": "LRqe2A_9fkCP",
        "colab": {
          "base_uri": "https://localhost:8080/"
        },
        "collapsed": true,
        "outputId": "ff0cbf56-8644-4b0d-f2cc-a045c358c98f"
      },
      "execution_count": null,
      "outputs": [
        {
          "output_type": "stream",
          "name": "stdout",
          "text": [
            "The average temperature is 30.57°C\n"
          ]
        }
      ]
    }
  ]
}